{
 "cells": [
  {
   "cell_type": "code",
   "execution_count": 1,
   "id": "c5ed6b1c",
   "metadata": {},
   "outputs": [],
   "source": [
    "#Download Libraries\n",
    "!pip install azure-storage-blob #Azure\n"
   ]
  },
  {
   "cell_type": "code",
   "execution_count": null,
   "id": "3b9250a7",
   "metadata": {},
   "outputs": [],
   "source": [
    "#Import Libraries"
   ]
  },
  {
   "cell_type": "code",
   "execution_count": null,
   "id": "6c46f597",
   "metadata": {},
   "outputs": [],
   "source": [
    "#Extracting From Source"
   ]
  }
 ],
 "metadata": {
  "kernelspec": {
   "display_name": "Python 3 (ipykernel)",
   "language": "python",
   "name": "python3"
  },
  "language_info": {
   "codemirror_mode": {
    "name": "ipython",
    "version": 3
   },
   "file_extension": ".py",
   "mimetype": "text/x-python",
   "name": "python",
   "nbconvert_exporter": "python",
   "pygments_lexer": "ipython3",
   "version": "3.9.12"
  }
 },
 "nbformat": 4,
 "nbformat_minor": 5
}
