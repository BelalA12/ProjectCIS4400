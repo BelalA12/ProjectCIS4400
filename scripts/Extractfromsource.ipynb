{
 "cells": [
  {
   "cell_type": "code",
   "execution_count": 1,
   "id": "c5ed6b1c",
   "metadata": {},
   "outputs": [],
   "source": [
    "#Download Libraries\n",
    "!pip3 install azure-storage-blob #Azure\n",
    "!pip3 install pyarrow # Apache Arrow\n"
   ]
  },
  {
   "cell_type": "code",
   "execution_count": null,
   "id": "3b9250a7",
   "metadata": {},
   "outputs": [],
   "source": [
    "#Import Libraries\n",
    "from io import StringIO\n",
    "import numpy as np\n",
    "import pandas as pd\n",
    "import json\n",
    "import requests\n",
    "from azure.storage.blob import BlobServiceClient, BlobClient, ContainerClient"
   ]
  },
  {
   "cell_type": "code",
   "execution_count": null,
   "id": "6c46f597",
   "metadata": {},
   "outputs": [],
   "source": [
    "#Extracting From Source\n",
    "#Extracting From Source\n",
    "import pandas as pd\n",
    "\n",
    "# Adjust display options to show all columns\n",
    "pd.set_option('display.max_columns', None)\n",
    "\n",
    "# Define the API endpoint URL with the $limit parameter to retrieve more records\n",
    "url = 'https://data.cityofnewyork.us/resource/h9gi-nx95.csv?$limit=10000'\n",
    "\n",
    "# Read the CSV file into a DataFrame\n",
    "df = pd.read_csv(url)\n",
    "\n",
    "df.head()\n"
   ]
  }
 ],
 "metadata": {
  "kernelspec": {
   "display_name": "Python 3 (ipykernel)",
   "language": "python",
   "name": "python3"
  },
  "language_info": {
   "codemirror_mode": {
    "name": "ipython",
    "version": 3
   },
   "file_extension": ".py",
   "mimetype": "text/x-python",
   "name": "python",
   "nbconvert_exporter": "python",
   "pygments_lexer": "ipython3",
   "version": "3.9.12"
  }
 },
 "nbformat": 4,
 "nbformat_minor": 5
}
